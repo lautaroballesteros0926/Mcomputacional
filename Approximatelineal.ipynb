{
 "cells": [
  {
   "cell_type": "code",
   "execution_count": null,
   "metadata": {},
   "outputs": [],
   "source": [
    "import numpy as np\n",
    "\n",
    "def gradient(f, x, epsilon=1e-6):\n",
    "    \"\"\"Calcula el gradiente numérico de la función f en el punto x.\"\"\"\n",
    "    grad = np.zeros_like(x)\n",
    "    for i in range(len(x)):\n",
    "        x_step = np.copy(x)\n",
    "        x_step[i] += epsilon\n",
    "        grad[i] = (f(x_step) - f(x)) / epsilon\n",
    "    return grad\n",
    "\n",
    "def approximate_line_search(f, x, direction, alpha=0.1, beta=0.7, max_iter=100):\n",
    "    \"\"\"Realiza una búsqueda lineal aproximada para determinar el tamaño del paso.\"\"\"\n",
    "    t = 1.0  # tamaño inicial del paso\n",
    "    for _ in range(max_iter):\n",
    "        if f(x + t * direction) < f(x) + alpha * t * np.dot(gradient(f, x), direction):\n",
    "            break\n",
    "        t *= beta\n",
    "    return t\n",
    "\n",
    "def local_descent(f, x_init, max_iter=1000, tol=1e-6):\n",
    "    \"\"\"Algoritmo de descenso local con búsqueda lineal aproximada.\"\"\"\n",
    "    x = np.copy(x_init)\n",
    "    for i in range(max_iter):\n",
    "        grad = gradient(f, x)\n",
    "        direction = -grad  # dirección de descenso\n",
    "        step_size = approximate_line_search(f, x, direction)\n",
    "        x_new = x + step_size * direction\n",
    "\n",
    "        # Condición de parada: cuando el cambio es pequeño\n",
    "        if np.linalg.norm(x_new - x) < tol:\n",
    "            print(f\"Convergió en la iteración {i}\")\n",
    "            break\n",
    "        x = x_new\n",
    "\n",
    "    return x\n",
    "\n",
    "# Función ejemplo a minimizar: f(x) = (x1 - 3)^2 + (x2 + 2)^2\n",
    "def f(x):\n",
    "    return (x[0] - 3)**2 + (x[1] + 2)**2\n",
    "\n",
    "# Punto inicial\n",
    "x_init = np.array([0.0, 0.0])\n",
    "\n",
    "# Ejecutar el algoritmo\n",
    "x_min = local_descent(f, x_init)\n",
    "\n",
    "print(f\"Punto mínimo aproximado: {x_min}\")\n",
    "print(f\"Valor mínimo de la función: {f(x_min)}\")\n"
   ]
  }
 ],
 "metadata": {
  "language_info": {
   "name": "python"
  }
 },
 "nbformat": 4,
 "nbformat_minor": 2
}

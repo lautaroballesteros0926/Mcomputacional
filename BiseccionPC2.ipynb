{
 "cells": [
  {
   "cell_type": "code",
   "execution_count": 1,
   "metadata": {},
   "outputs": [
    {
     "name": "stdout",
     "output_type": "stream",
     "text": [
      "Raíz aproximada:\n"
     ]
    },
    {
     "data": {
      "text/plain": [
       "2.0945510864257812"
      ]
     },
     "execution_count": 1,
     "metadata": {},
     "output_type": "execute_result"
    }
   ],
   "source": [
    "def biseccion(f, a, b, tol, max_iter):\n",
    "    # Verificar si el método se puede aplicar\n",
    "    if f(a) * f(b) >= 0:\n",
    "        print(\"El método no se puede aplicar\")\n",
    "        return None\n",
    "    \n",
    "    # Inicializar variables\n",
    "    iteracion = 0\n",
    "    \n",
    "    while (b - a) / 2 > tol and iteracion < max_iter:\n",
    "        c = (a + b) / 2\n",
    "        \n",
    "        # Verificar si encontramos la raíz exacta\n",
    "        if f(c) == 0:\n",
    "            return c\n",
    "        \n",
    "        # Decidir en qué subintervalo continuar\n",
    "        if f(a) * f(c) < 0:\n",
    "            b = c\n",
    "        else:\n",
    "            a = c\n",
    "        \n",
    "        # Incrementar el contador de iteraciones\n",
    "        iteracion += 1\n",
    "    \n",
    "    # Calcular la raíz aproximada\n",
    "    x = (a + b) / 2\n",
    "    print(\"Raíz aproximada:\" )\n",
    "    return x\n",
    "\n",
    "# Ejemplo de uso con una función específica\n",
    "def f(x):\n",
    "    return x**3 - 2*x - 5  # Define tu función aquí\n",
    "\n",
    "# Intervalo [a, b], tolerancia y número máximo de iteraciones\n",
    "a = 1\n",
    "b = 3\n",
    "tol = 1e-5\n",
    "max_iter = 100\n",
    "\n",
    "# Llamar a la función de bisección\n",
    "biseccion(f, a, b, tol, max_iter)"
   ]
  }
 ],
 "metadata": {
  "kernelspec": {
   "display_name": "base",
   "language": "python",
   "name": "python3"
  },
  "language_info": {
   "codemirror_mode": {
    "name": "ipython",
    "version": 3
   },
   "file_extension": ".py",
   "mimetype": "text/x-python",
   "name": "python",
   "nbconvert_exporter": "python",
   "pygments_lexer": "ipython3",
   "version": "3.10.9"
  }
 },
 "nbformat": 4,
 "nbformat_minor": 2
}

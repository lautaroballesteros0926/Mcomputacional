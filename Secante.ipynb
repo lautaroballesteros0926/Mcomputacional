{
 "cells": [
  {
   "cell_type": "code",
   "execution_count": 1,
   "metadata": {},
   "outputs": [
    {
     "name": "stdout",
     "output_type": "stream",
     "text": [
      "La raíz aproximada es: 1.4142135620573204\n"
     ]
    }
   ],
   "source": [
    "def secant_method(f, x0, x1, tol=1e-6, max_iter=100):\n",
    "    \"\"\"\n",
    "    Implementación del Método de la Secante para encontrar la raíz de f(x) = 0.\n",
    "    \n",
    "    :param f: Función de la que queremos encontrar la raíz.\n",
    "    :param x0: Primera aproximación inicial.\n",
    "    :param x1: Segunda aproximación inicial.\n",
    "    :param tol: Tolerancia para la convergencia (por defecto 1e-6).\n",
    "    :param max_iter: Máximo número de iteraciones permitidas (por defecto 100).\n",
    "    :return: Aproximación de la raíz.\n",
    "    \"\"\"\n",
    "    \n",
    "    for i in range(max_iter):\n",
    "        if abs(f(x1)) < tol:\n",
    "            return x1  # Si la función en x1 es suficientemente cercana a 0, devolver x1\n",
    "        \n",
    "        # Calcular el siguiente valor de x utilizando la fórmula de la secante\n",
    "        try:\n",
    "            x2 = x1 - f(x1) * (x1 - x0) / (f(x1) - f(x0))\n",
    "        except ZeroDivisionError:\n",
    "            print(\"Error: División por cero debido a una función mal definida en los puntos iniciales.\")\n",
    "            return None\n",
    "        \n",
    "        # Actualizar los valores de x para la siguiente iteración\n",
    "        x0, x1 = x1, x2\n",
    "        \n",
    "    print(\"El método no convergió después del número máximo de iteraciones.\")\n",
    "    return None\n",
    "\n",
    "# Ejemplo de uso:\n",
    "# Definir la función de la que queremos encontrar la raíz\n",
    "def f(x):\n",
    "    return x**2 - 2  # Buscamos la raíz de x^2 - 2, que es sqrt(2)\n",
    "\n",
    "# Llamar al método de la secante\n",
    "raiz = secant_method(f, x0=1, x1=2)\n",
    "print(f\"La raíz aproximada es: {raiz}\")\n"
   ]
  }
 ],
 "metadata": {
  "kernelspec": {
   "display_name": "base",
   "language": "python",
   "name": "python3"
  },
  "language_info": {
   "codemirror_mode": {
    "name": "ipython",
    "version": 3
   },
   "file_extension": ".py",
   "mimetype": "text/x-python",
   "name": "python",
   "nbconvert_exporter": "python",
   "pygments_lexer": "ipython3",
   "version": "3.10.9"
  }
 },
 "nbformat": 4,
 "nbformat_minor": 2
}

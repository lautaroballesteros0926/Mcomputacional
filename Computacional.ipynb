{
 "cells": [
  {
   "cell_type": "code",
   "execution_count": null,
   "metadata": {},
   "outputs": [],
   "source": [
    "import numpy as np "
   ]
  },
  {
   "cell_type": "markdown",
   "metadata": {},
   "source": [
    "![Mi imagen](imagen1.png)"
   ]
  },
  {
   "cell_type": "code",
   "execution_count": 1,
   "metadata": {},
   "outputs": [
    {
     "name": "stdout",
     "output_type": "stream",
     "text": [
      "Derivada parcial respecto a x en (x, y) = (2.0, 3.0): 4.000010000027032\n",
      "Derivada parcial respecto a y en (x, y) = (2.0, 3.0): 6.000009999951316\n"
     ]
    }
   ],
   "source": [
    "# Forward Difference Method.\n",
    "\n",
    "# Definir la función de dos variables\n",
    "def f(x, y):\n",
    "    return x**2 + y**2  # Ejemplo: una función cuadrática simple\n",
    "\n",
    "# Método de diferencias hacia adelante para la derivada parcial respecto a x\n",
    "def forward_difference_x(f, x, y, h=1e-5):\n",
    "    return (f(x+h, y) - f(x, y)) / h\n",
    "\n",
    "# Método de diferencias hacia adelante para la derivada parcial respecto a y\n",
    "def forward_difference_y(f, x, y, h=1e-5):\n",
    "    return (f(x, y+h) - f(x, y)) / h\n",
    "\n",
    "# Valores de prueba para x y y\n",
    "x = 2.0\n",
    "y = 3.0\n",
    "\n",
    "# Calcular las derivadas parciales usando el Forward Difference Method\n",
    "df_dx = forward_difference_x(f, x, y)\n",
    "df_dy = forward_difference_y(f, x, y)\n",
    "\n",
    "print(f\"Derivada parcial respecto a x en (x, y) = ({x}, {y}): {df_dx}\")\n",
    "print(f\"Derivada parcial respecto a y en (x, y) = ({x}, {y}): {df_dy}\")\n"
   ]
  },
  {
   "cell_type": "markdown",
   "metadata": {},
   "source": [
    "![Mi imagen](imagen2.png)"
   ]
  },
  {
   "cell_type": "code",
   "execution_count": 2,
   "metadata": {},
   "outputs": [
    {
     "name": "stdout",
     "output_type": "stream",
     "text": [
      "Derivada parcial respecto a x en (x, y) = (2.0, 3.0): 3.999990000025377\n",
      "Derivada parcial respecto a y en (x, y) = (2.0, 3.0): 5.999990000127297\n"
     ]
    }
   ],
   "source": [
    "# Backward Difference Method.\n",
    "\n",
    "# Definir la función de dos variables\n",
    "def f(x, y):\n",
    "    return x**2 + y**2  # Ejemplo: función cuadrática simple\n",
    "\n",
    "# Método de diferencias hacia atrás para la derivada parcial respecto a x\n",
    "def backward_difference_x(f, x, y, h=1e-5):\n",
    "    return (f(x, y) - f(x-h, y)) / h\n",
    "\n",
    "# Método de diferencias hacia atrás para la derivada parcial respecto a y\n",
    "def backward_difference_y(f, x, y, h=1e-5):\n",
    "    return (f(x, y) - f(x, y-h)) / h\n",
    "\n",
    "# Valores de prueba para x y y\n",
    "x = 2.0\n",
    "y = 3.0\n",
    "\n",
    "# Calcular las derivadas parciales usando el Backward Difference Method\n",
    "df_dx = backward_difference_x(f, x, y)\n",
    "df_dy = backward_difference_y(f, x, y)\n",
    "\n",
    "print(f\"Derivada parcial respecto a x en (x, y) = ({x}, {y}): {df_dx}\")\n",
    "print(f\"Derivada parcial respecto a y en (x, y) = ({x}, {y}): {df_dy}\")\n"
   ]
  },
  {
   "cell_type": "markdown",
   "metadata": {},
   "source": [
    "![Mi imagen](imagen3.png)"
   ]
  },
  {
   "cell_type": "code",
   "execution_count": 3,
   "metadata": {},
   "outputs": [
    {
     "name": "stdout",
     "output_type": "stream",
     "text": [
      "Matriz Hessiana en el punto ( 2.0 , 3.0 ):\n",
      "[[2.00000017 0.        ]\n",
      " [0.         1.9999824 ]]\n"
     ]
    }
   ],
   "source": [
    "# Definimos la función f(x, y)\n",
    "def f(x, y):\n",
    "    return x**2 + y**2\n",
    "\n",
    "# Aproximación de diferencias finitas para la segunda derivada\n",
    "def second_partial_derivative(f, x, y, h, var):\n",
    "    if var == 'x':  # Derivada parcial segunda respecto a x\n",
    "        return (f(x + h, y) - 2 * f(x, y) + f(x - h, y)) / h**2\n",
    "    elif var == 'y':  # Derivada parcial segunda respecto a y\n",
    "        return (f(x, y + h) - 2 * f(x, y) + f(x, y - h)) / h**2\n",
    "    else:\n",
    "        raise ValueError(\"var must be 'x' or 'y'\")\n",
    "\n",
    "# Aproximación de diferencias finitas para la derivada mixta\n",
    "def mixed_partial_derivative(f, x, y, h):\n",
    "    return (f(x + h, y + h) - f(x + h, y) - f(x, y + h) + f(x, y)) / (h**2)\n",
    "\n",
    "# Función para calcular la matriz Hessiana\n",
    "def hessian(f, x, y, h):\n",
    "    # Segunda derivada respecto a x\n",
    "    f_xx = second_partial_derivative(f, x, y, h, 'x')\n",
    "    \n",
    "    # Segunda derivada respecto a y\n",
    "    f_yy = second_partial_derivative(f, x, y, h, 'y')\n",
    "    \n",
    "    # Derivada mixta\n",
    "    f_xy = mixed_partial_derivative(f, x, y, h)\n",
    "    \n",
    "    # La matriz Hessiana es simétrica, así que f_xy = f_yx\n",
    "    H = np.array([[f_xx, f_xy],\n",
    "                  [f_xy, f_yy]])\n",
    "    \n",
    "    return H\n",
    "\n",
    "# Valores de prueba\n",
    "x, y = 2.0, 3.0  # Punto donde queremos calcular la Hessiana\n",
    "h = 1e-5         # Paso pequeño\n",
    "\n",
    "# Calcular y mostrar la matriz Hessiana\n",
    "H = hessian(f, x, y, h)\n",
    "print(\"Matriz Hessiana en el punto (\", x, \",\", y, \"):\")\n",
    "print(H)\n"
   ]
  },
  {
   "cell_type": "code",
   "execution_count": 4,
   "metadata": {},
   "outputs": [
    {
     "name": "stdout",
     "output_type": "stream",
     "text": [
      "Raíz aproximada:\n"
     ]
    },
    {
     "data": {
      "text/plain": [
       "2.0945510864257812"
      ]
     },
     "execution_count": 4,
     "metadata": {},
     "output_type": "execute_result"
    }
   ],
   "source": [
    "def biseccion(f, a, b, tol, max_iter):\n",
    "    # Verificar si el método se puede aplicar\n",
    "    if f(a) * f(b) >= 0:\n",
    "        print(\"El método no se puede aplicar\")\n",
    "        return None\n",
    "    \n",
    "    # Inicializar variables\n",
    "    iteracion = 0\n",
    "    \n",
    "    while (b - a) / 2 > tol and iteracion < max_iter:\n",
    "        c = (a + b) / 2\n",
    "        \n",
    "        # Verificar si encontramos la raíz exacta\n",
    "        if f(c) == 0:\n",
    "            return c\n",
    "        \n",
    "        # Decidir en qué subintervalo continuar\n",
    "        if f(a) * f(c) < 0:\n",
    "            b = c\n",
    "        else:\n",
    "            a = c\n",
    "        \n",
    "        # Incrementar el contador de iteraciones\n",
    "        iteracion += 1\n",
    "    \n",
    "    # Calcular la raíz aproximada\n",
    "    x = (a + b) / 2\n",
    "    print(\"Raíz aproximada:\" )\n",
    "    return x\n",
    "\n",
    "# Ejemplo de uso con una función específica\n",
    "def f(x):\n",
    "    return x**3 - 2*x - 5  # Define tu función aquí\n",
    "\n",
    "# Intervalo [a, b], tolerancia y número máximo de iteraciones\n",
    "a = 1\n",
    "b = 3\n",
    "tol = 1e-5\n",
    "max_iter = 100\n",
    "\n",
    "# Llamar a la función de bisección\n",
    "biseccion(f, a, b, tol, max_iter)"
   ]
  },
  {
   "cell_type": "code",
   "execution_count": null,
   "metadata": {},
   "outputs": [],
   "source": []
  }
 ],
 "metadata": {
  "kernelspec": {
   "display_name": "Python 3",
   "language": "python",
   "name": "python3"
  },
  "language_info": {
   "codemirror_mode": {
    "name": "ipython",
    "version": 3
   },
   "file_extension": ".py",
   "mimetype": "text/x-python",
   "name": "python",
   "nbconvert_exporter": "python",
   "pygments_lexer": "ipython3",
   "version": "3.10.9"
  }
 },
 "nbformat": 4,
 "nbformat_minor": 2
}

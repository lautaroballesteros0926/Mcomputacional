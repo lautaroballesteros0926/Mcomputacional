{
 "cells": [
  {
   "cell_type": "code",
   "execution_count": 9,
   "metadata": {},
   "outputs": [
    {
     "name": "stdout",
     "output_type": "stream",
     "text": [
      "Punto óptimo: [ 3. -1.]\n",
      "Valor mínimo de la función: 1.133231246548556e-49\n",
      "Número de iteraciones: 4\n",
      "Éxito: True\n"
     ]
    }
   ],
   "source": [
    "import numpy as np\n",
    "from scipy.optimize import minimize\n",
    "\n",
    "# Definimos la función multivariable\n",
    "def f(x):\n",
    "    x1, x2 = x\n",
    "    return (x1 - 3)**2 + (x2 + 1)**4\n",
    "\n",
    "# Punto inicial\n",
    "x0 = np.array([0, 0])\n",
    "\n",
    "# Usamos el método de Powell\n",
    "result = minimize(f, x0, method='Powell')\n",
    "\n",
    "# Mostramos los resultados\n",
    "print(\"Punto óptimo:\", result.x)\n",
    "print(\"Valor mínimo de la función:\", result.fun)\n",
    "print(\"Número de iteraciones:\", result.nit)\n",
    "print(\"Éxito:\", result.success)\n",
    "\n"
   ]
  },
  {
   "cell_type": "code",
   "execution_count": 8,
   "metadata": {},
   "outputs": [
    {
     "name": "stdout",
     "output_type": "stream",
     "text": [
      "Punto óptimo: [ 3.00606856 -0.89836289]\n",
      "Valor mínimo de la función: 0.00014353839770473028\n",
      "Número de iteraciones: 10000\n"
     ]
    }
   ],
   "source": [
    "import numpy as np\n",
    "\n",
    "# Definimos la función objetivo\n",
    "def f(x):\n",
    "    x1, x2 = x\n",
    "    return (x1 - 3)**2 + (x2 + 1)**4\n",
    "\n",
    "# Búsqueda unidimensional mejorada\n",
    "def line_search(f, x, direction, alpha=1, beta=0.5, tol=1e-8):\n",
    "    step = alpha\n",
    "    while f(x + step * direction) > f(x) + tol:\n",
    "        step *= beta  # Reduce el tamaño del paso multiplicándolo por beta\n",
    "    return step\n",
    "\n",
    "# Método de Powell\n",
    "def powell_method(f, x0, directions=None, tol=1e-8, max_iter=10000):\n",
    "    if directions is None:\n",
    "        directions = [np.array([1, 0]), np.array([0, 1])]  # Direcciones iniciales: ejes coordenados\n",
    "\n",
    "    x = np.array(x0, dtype=float)\n",
    "    n = len(x)\n",
    "    \n",
    "    for iteration in range(max_iter):\n",
    "        x_old = np.copy(x)\n",
    "        \n",
    "        for i in range(n):\n",
    "            direction = directions[i]\n",
    "            # Búsqueda en la dirección actual\n",
    "            step_size = line_search(f, x, direction)\n",
    "            x += step_size * direction  # Actualizamos el punto\n",
    "            \n",
    "        # Calcular la nueva dirección conjugada\n",
    "        new_direction = x - x_old\n",
    "        if np.linalg.norm(new_direction) == 0:  # Evita divisiones por cero\n",
    "            break\n",
    "        new_direction = new_direction / np.linalg.norm(new_direction)  # Normalizar\n",
    "        \n",
    "        # Actualizar las direcciones, descartamos la más antigua\n",
    "        directions.pop(0)\n",
    "        directions.append(new_direction)\n",
    "        \n",
    "        # Comprobamos la convergencia\n",
    "        if np.linalg.norm(x - x_old) < tol:\n",
    "            break\n",
    "    \n",
    "    return x, f(x), iteration + 1\n",
    "\n",
    "# Punto inicial\n",
    "x0 = [2, -1]  # Probar un punto inicial más cercano al mínimo esperado\n",
    "\n",
    "# Ejecutamos el Método de Powell\n",
    "optimal_point, min_value, num_iterations = powell_method(f, x0)\n",
    "\n",
    "# Mostramos los resultados\n",
    "print(f\"Punto óptimo: {optimal_point}\")\n",
    "print(f\"Valor mínimo de la función: {min_value}\")\n",
    "print(f\"Número de iteraciones: {num_iterations}\")\n"
   ]
  }
 ],
 "metadata": {
  "kernelspec": {
   "display_name": "base",
   "language": "python",
   "name": "python3"
  },
  "language_info": {
   "codemirror_mode": {
    "name": "ipython",
    "version": 3
   },
   "file_extension": ".py",
   "mimetype": "text/x-python",
   "name": "python",
   "nbconvert_exporter": "python",
   "pygments_lexer": "ipython3",
   "version": "3.10.9"
  }
 },
 "nbformat": 4,
 "nbformat_minor": 2
}
